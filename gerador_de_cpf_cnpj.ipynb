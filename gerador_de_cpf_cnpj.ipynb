{
 "cells": [
  {
   "cell_type": "code",
   "execution_count": 92,
   "metadata": {},
   "outputs": [],
   "source": [
    "import random\n",
    "import pandas as pd"
   ]
  },
  {
   "cell_type": "markdown",
   "metadata": {},
   "source": [
    "## Configurações"
   ]
  },
  {
   "cell_type": "code",
   "execution_count": 93,
   "metadata": {},
   "outputs": [],
   "source": [
    "quantidade_cpfs = 64\n",
    "quantidade_cnpjs = 36\n",
    "caminho = r\"base\\base_cpf_cnpj.xlsx\""
   ]
  },
  {
   "cell_type": "markdown",
   "metadata": {},
   "source": [
    "## Função para gerar um CPF válido"
   ]
  },
  {
   "cell_type": "code",
   "execution_count": 94,
   "metadata": {},
   "outputs": [],
   "source": [
    "def gerar_cpf():\n",
    "    def calcular_digito(verificadores):\n",
    "        soma = sum([verificadores[i] * (len(verificadores) + 1 - i) for i in range(len(verificadores))])\n",
    "        resto = soma % 11\n",
    "        return 0 if resto < 2 else 11 - resto\n",
    "\n",
    "    cpf = [random.randint(0, 9) for _ in range(9)]\n",
    "    cpf.append(calcular_digito(cpf))\n",
    "    cpf.append(calcular_digito(cpf))\n",
    "    return ''.join(map(str, cpf))"
   ]
  },
  {
   "cell_type": "markdown",
   "metadata": {},
   "source": [
    "## Função para gerar um CNPJ válido"
   ]
  },
  {
   "cell_type": "code",
   "execution_count": 95,
   "metadata": {},
   "outputs": [],
   "source": [
    "def gerar_cnpj():\n",
    "    def calcular_digito(base):\n",
    "        pesos = [6, 5, 4, 3, 2, 9, 8, 7, 6, 5, 4, 3, 2]\n",
    "        soma = sum(base[i] * pesos[i + len(pesos) - len(base)] for i in range(len(base)))\n",
    "        resto = soma % 11\n",
    "        return 0 if resto < 2 else 11 - resto\n",
    "\n",
    "    cnpj = [random.randint(0, 9) for _ in range(8)] + [0, 0, 0, 1]\n",
    "    cnpj.append(calcular_digito(cnpj))\n",
    "    cnpj.append(calcular_digito(cnpj))\n",
    "    return ''.join(map(str, cnpj))"
   ]
  },
  {
   "cell_type": "markdown",
   "metadata": {},
   "source": [
    "## Função para gerar CPFs e CNPJs"
   ]
  },
  {
   "cell_type": "code",
   "execution_count": 96,
   "metadata": {},
   "outputs": [],
   "source": [
    "def gerar_cpfs_cnpjs(qtd_cpfs, qtd_cnpjs):\n",
    "    cpfs = [{'tipo': 'CPF', 'cpf_cnpj': gerar_cpf()} for _ in range(qtd_cpfs)]\n",
    "    cnpjs = [{'tipo': 'CNPJ', 'cpf_cnpj': gerar_cnpj()} for _ in range(qtd_cnpjs)]\n",
    "    dados = cpfs + cnpjs\n",
    "    random.shuffle(dados)\n",
    "    return dados"
   ]
  },
  {
   "cell_type": "markdown",
   "metadata": {},
   "source": [
    "## Uso"
   ]
  },
  {
   "cell_type": "code",
   "execution_count": 97,
   "metadata": {},
   "outputs": [
    {
     "data": {
      "text/html": [
       "<div>\n",
       "<style scoped>\n",
       "    .dataframe tbody tr th:only-of-type {\n",
       "        vertical-align: middle;\n",
       "    }\n",
       "\n",
       "    .dataframe tbody tr th {\n",
       "        vertical-align: top;\n",
       "    }\n",
       "\n",
       "    .dataframe thead th {\n",
       "        text-align: right;\n",
       "    }\n",
       "</style>\n",
       "<table border=\"1\" class=\"dataframe\">\n",
       "  <thead>\n",
       "    <tr style=\"text-align: right;\">\n",
       "      <th></th>\n",
       "      <th>tipo</th>\n",
       "      <th>cpf_cnpj</th>\n",
       "      <th>tamanho</th>\n",
       "    </tr>\n",
       "  </thead>\n",
       "  <tbody>\n",
       "    <tr>\n",
       "      <th>0</th>\n",
       "      <td>CPF</td>\n",
       "      <td>22536471284</td>\n",
       "      <td>11</td>\n",
       "    </tr>\n",
       "    <tr>\n",
       "      <th>1</th>\n",
       "      <td>CPF</td>\n",
       "      <td>41209745372</td>\n",
       "      <td>11</td>\n",
       "    </tr>\n",
       "    <tr>\n",
       "      <th>2</th>\n",
       "      <td>CPF</td>\n",
       "      <td>41512145343</td>\n",
       "      <td>11</td>\n",
       "    </tr>\n",
       "    <tr>\n",
       "      <th>3</th>\n",
       "      <td>CPF</td>\n",
       "      <td>64287054270</td>\n",
       "      <td>11</td>\n",
       "    </tr>\n",
       "    <tr>\n",
       "      <th>4</th>\n",
       "      <td>CNPJ</td>\n",
       "      <td>69346060000167</td>\n",
       "      <td>14</td>\n",
       "    </tr>\n",
       "    <tr>\n",
       "      <th>...</th>\n",
       "      <td>...</td>\n",
       "      <td>...</td>\n",
       "      <td>...</td>\n",
       "    </tr>\n",
       "    <tr>\n",
       "      <th>95</th>\n",
       "      <td>CPF</td>\n",
       "      <td>78555617308</td>\n",
       "      <td>11</td>\n",
       "    </tr>\n",
       "    <tr>\n",
       "      <th>96</th>\n",
       "      <td>CPF</td>\n",
       "      <td>43366442921</td>\n",
       "      <td>11</td>\n",
       "    </tr>\n",
       "    <tr>\n",
       "      <th>97</th>\n",
       "      <td>CNPJ</td>\n",
       "      <td>27557118000171</td>\n",
       "      <td>14</td>\n",
       "    </tr>\n",
       "    <tr>\n",
       "      <th>98</th>\n",
       "      <td>CPF</td>\n",
       "      <td>44881186582</td>\n",
       "      <td>11</td>\n",
       "    </tr>\n",
       "    <tr>\n",
       "      <th>99</th>\n",
       "      <td>CPF</td>\n",
       "      <td>40751126837</td>\n",
       "      <td>11</td>\n",
       "    </tr>\n",
       "  </tbody>\n",
       "</table>\n",
       "<p>100 rows × 3 columns</p>\n",
       "</div>"
      ],
      "text/plain": [
       "    tipo        cpf_cnpj  tamanho\n",
       "0    CPF     22536471284       11\n",
       "1    CPF     41209745372       11\n",
       "2    CPF     41512145343       11\n",
       "3    CPF     64287054270       11\n",
       "4   CNPJ  69346060000167       14\n",
       "..   ...             ...      ...\n",
       "95   CPF     78555617308       11\n",
       "96   CPF     43366442921       11\n",
       "97  CNPJ  27557118000171       14\n",
       "98   CPF     44881186582       11\n",
       "99   CPF     40751126837       11\n",
       "\n",
       "[100 rows x 3 columns]"
      ]
     },
     "execution_count": 97,
     "metadata": {},
     "output_type": "execute_result"
    }
   ],
   "source": [
    "dados = gerar_cpfs_cnpjs(quantidade_cpfs, quantidade_cnpjs)\n",
    "\n",
    "df = pd.DataFrame(dados)\n",
    "df['tamanho'] = df['cpf_cnpj'].apply(len)\n",
    "df.to_excel(caminho, index=False)\n",
    "\n",
    "df"
   ]
  },
  {
   "cell_type": "code",
   "execution_count": 98,
   "metadata": {},
   "outputs": [
    {
     "data": {
      "text/plain": [
       "tipo\n",
       "CPF     64\n",
       "CNPJ    36\n",
       "Name: count, dtype: int64"
      ]
     },
     "execution_count": 98,
     "metadata": {},
     "output_type": "execute_result"
    }
   ],
   "source": [
    "df['tipo'].value_counts()"
   ]
  },
  {
   "cell_type": "code",
   "execution_count": 99,
   "metadata": {},
   "outputs": [
    {
     "data": {
      "text/plain": [
       "tamanho\n",
       "11    64\n",
       "14    36\n",
       "Name: count, dtype: int64"
      ]
     },
     "execution_count": 99,
     "metadata": {},
     "output_type": "execute_result"
    }
   ],
   "source": [
    "df['tamanho'].value_counts()"
   ]
  },
  {
   "cell_type": "code",
   "execution_count": null,
   "metadata": {},
   "outputs": [],
   "source": []
  }
 ],
 "metadata": {
  "kernelspec": {
   "display_name": "Python 3",
   "language": "python",
   "name": "python3"
  },
  "language_info": {
   "codemirror_mode": {
    "name": "ipython",
    "version": 3
   },
   "file_extension": ".py",
   "mimetype": "text/x-python",
   "name": "python",
   "nbconvert_exporter": "python",
   "pygments_lexer": "ipython3",
   "version": "3.11.9"
  }
 },
 "nbformat": 4,
 "nbformat_minor": 2
}
